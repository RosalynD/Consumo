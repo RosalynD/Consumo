{
 "cells": [
  {
   "cell_type": "code",
   "execution_count": 41,
   "metadata": {},
   "outputs": [],
   "source": [
    "import pandas as pd\n",
    "import matplotlib.pyplot as plt\n",
    "import numpy as np"
   ]
  },
  {
   "cell_type": "code",
   "execution_count": 42,
   "metadata": {},
   "outputs": [],
   "source": [
    "df=pd.read_csv('consumo.csv')\n"
   ]
  },
  {
   "cell_type": "code",
   "execution_count": 43,
   "metadata": {},
   "outputs": [
    {
     "name": "stdout",
     "output_type": "stream",
     "text": [
      "['Marca temporal', '1.1. Encuestador', '1.2. Fecha', '1.3. Municipio', '1.4. Sección Urbana', '1.5. Manzana', '1.6. Selección', '1.7. Hogar', '1.9. ¿El hogar seleccionado se encuentra habitado?', '2.1. Dirección']\n"
     ]
    }
   ],
   "source": [
    "preguntas=list(df)\n",
    "print(preguntas[0:10])\n"
   ]
  },
  {
   "cell_type": "code",
   "execution_count": 44,
   "metadata": {},
   "outputs": [
    {
     "data": {
      "text/plain": [
       "'1.6. Selección'"
      ]
     },
     "execution_count": 44,
     "metadata": {},
     "output_type": "execute_result"
    }
   ],
   "source": [
    "preguntas[6]"
   ]
  },
  {
   "cell_type": "markdown",
   "metadata": {},
   "source": [
    "Se están borrando los datos de las casas donde no vivan personas"
   ]
  },
  {
   "cell_type": "code",
   "execution_count": 45,
   "metadata": {},
   "outputs": [],
   "source": [
    "df=df[~df['1.9. ¿El hogar seleccionado se encuentra habitado?'].isin([\"No\"])]\n"
   ]
  },
  {
   "cell_type": "markdown",
   "metadata": {},
   "source": [
    "Se están borrando los datos de Marca Temporal, Encuestador, Fecha, Selección, Hogar y Dirección debido a que no son datos relevantes para alcanzar el objetivo propuesto"
   ]
  },
  {
   "cell_type": "code",
   "execution_count": 46,
   "metadata": {},
   "outputs": [],
   "source": [
    "df=df.drop(columns=['Marca temporal','1.1. Encuestador', '1.2. Fecha','1.6. Selección', '1.7. Hogar','2.1. Dirección'])\n"
   ]
  },
  {
   "cell_type": "markdown",
   "metadata": {},
   "source": [
    "bla bla"
   ]
  },
  {
   "cell_type": "code",
   "execution_count": 47,
   "metadata": {},
   "outputs": [],
   "source": [
    "df = df.drop(columns = ['4.1. ¿De los anteriores productos ha incrementado su compra recientemente?', '4.1.1 ¿Cuáles?', '4.2. ¿De los anteriores productos a disminuido su compra recientemente?', '4.1. ¿De los anteriores productos ha incrementado su compra recientemente?',\t'4.2.1. ¿ Cuál fue el motivo por el que disminuyó la compra de los alimentos?',\t'4.3. ¿Hay algún producto alimenticio que le gustaría comprar y no encuentra en el mercado?',\t'4.3.1. ¿Cuáles?', '4.4. ¿Le gustaría incluir productos orgánicos en la compra de sus alimentos?', '4.4.1. ¿Cuáles?', '4.4.1.1. ¿Estaría dispuesto a pagar más por los productos orgánicos?',\t'4.5. ¿Qué porcentaje de los ingresos del hogar se destina para los alimentos?',\t'Observaciones'])"
   ]
  },
  {
   "cell_type": "code",
   "execution_count": 48,
   "metadata": {},
   "outputs": [],
   "source": [
    "df=df.drop(columns=['4.1. ¿De los anteriores productos ha incrementado su compra recientemente?.1'])"
   ]
  },
  {
   "cell_type": "markdown",
   "metadata": {},
   "source": [
    "Guardar el Documento"
   ]
  },
  {
   "cell_type": "code",
   "execution_count": 49,
   "metadata": {},
   "outputs": [],
   "source": [
    "df.to_csv(\"BD1.csv\",index=False)"
   ]
  },
  {
   "cell_type": "code",
   "execution_count": 50,
   "metadata": {},
   "outputs": [
    {
     "data": {
      "image/png": "[encoded data removed]",
      "text/plain": [
       "<Figure size 432x288 with 1 Axes>"
      ]
     },
     "metadata": {
      "needs_background": "light"
     },
     "output_type": "display_data"
    }
   ],
   "source": [
    "df['2.3. ¿Cuántas personas componen el hogar?'].value_counts().sort_index().plot(kind='bar')\n",
    "plt.grid(True, which=\"both\", axis='y')\n",
    "plt.xlabel('Cantidad Personas')\n",
    "plt.ylabel('Frecuencia')\n",
    "plt.title('Personas por Casa')\n",
    "plt.show()"
   ]
  },
  {
   "cell_type": "code",
   "execution_count": 51,
   "metadata": {},
   "outputs": [],
   "source": [
    "preguntas=list(df)"
   ]
  },
  {
   "cell_type": "code",
   "execution_count": 52,
   "metadata": {},
   "outputs": [
    {
     "data": {
      "text/plain": [
       "<matplotlib.axes._subplots.AxesSubplot at 0xf7077f0>"
      ]
     },
     "execution_count": 52,
     "metadata": {},
     "output_type": "execute_result"
    },
    {
     "data": {
      "image/png": "[encoded data removed]",
      "text/plain": [
       "<Figure size 432x288 with 1 Axes>"
      ]
     },
     "metadata": {},
     "output_type": "display_data"
    }
   ],
   "source": [
    "df[preguntas[6]].value_counts().plot(kind='pie', autopct='%1.1f%%')"
   ]
  },
  {
   "cell_type": "code",
   "execution_count": 53,
   "metadata": {},
   "outputs": [
    {
     "data": {
      "text/plain": [
       "array(['1.3. Municipio', '1.4. Sección Urbana', '1.5. Manzana',\n",
       "       '1.9. ¿El hogar seleccionado se encuentra habitado?',\n",
       "       '2.2. ¿Cuál es el estrato socioeconómico que aparece en su recibo de la luz?',\n",
       "       '2.3. ¿Cuántas personas componen el hogar?',\n",
       "       '2.3.2. (Persona 1) Género', '2.3.3. (Persona 1) Edad',\n",
       "       '2.3.4. (Persona 1) Nivel de escolaridad',\n",
       "       '2.3.5. (Persona 1) ¿Desayuna con alimentos preparados en casa?',\n",
       "       '2.3.5.1. (Persona 1) ¿Cuantos días a las semana desayuna con alimentos preparados en casa?',\n",
       "       '2.3.6. (Persona 1) ¿Almuerza con alimentos preparados en casa?',\n",
       "       '2.3.6.1. (Persona 1) ¿Cuantos días a las semana almuerza con alimentos preparados en casa?',\n",
       "       '2.3.7. (Persona 1) ¿Cena con alimentos preparados en casa?',\n",
       "       '2.3.7.1. (Persona 1) ¿Cuantos días a las semana cena con alimentos preparados en casa?',\n",
       "       '2.3.2. (Persona 2) Género', '2.3.3. (Persona 2) Edad',\n",
       "       '2.3.4. (Persona 2) Nivel de escolaridad',\n",
       "       '2.3.5. (Persona 2) ¿Desayuna con alimentos preparados en casa?',\n",
       "       '2.3.5.1. (Persona 2) ¿Cuantos días a las semana desayuna con alimentos preparados en casa?',\n",
       "       '2.3.6. (Persona 2) ¿Almuerza con alimentos preparados en casa?',\n",
       "       '2.3.6.1. (Persona 2) ¿Cuantos días a las semana almuerza con alimentos preparados en casa?',\n",
       "       '2.3.7. (Persona 2) ¿Cena con alimentos preparados en casa?',\n",
       "       '2.3.7.1. (Persona 2) ¿Cuantos días a las semana almuerza con alimentos preparados en casa?',\n",
       "       '2.3.2. (Persona 3) Género', '2.3.3. (Persona 3) Edad',\n",
       "       '2.3.4. (Persona 3) Nivel de escolaridad',\n",
       "       '2.3.5. (Persona 3) ¿Desayuna con alimentos preparados en casa?',\n",
       "       '2.3.5.1. (Persona 3) ¿Cuantos días a las semana desayuna con alimentos preparados en casa?',\n",
       "       '2.3.6. (Persona 3) ¿Almuerza con alimentos preparados en casa?',\n",
       "       '2.3.6.1. (Persona 3) ¿Cuantos días a las semana almuerza con alimentos preparados en casa?',\n",
       "       '2.3.7. (Persona 3) ¿Cena con alimentos preparados en casa?',\n",
       "       '2.3.7.1. (Persona 3) ¿Cuantos días a las semana almuerza con alimentos preparados en casa?',\n",
       "       '2.3.2. (Persona 4) Género', '2.3.3. (Persona 4) Edad',\n",
       "       '2.3.4. (Persona 4) Nivel de escolaridad',\n",
       "       '2.3.5. (Persona 4) ¿Desayuna con alimentos preparados en casa?',\n",
       "       '2.3.5.1. (Persona 4) ¿Cuantos días a las semana desayuna con alimentos preparados en casa?',\n",
       "       '2.3.6. (Persona 4) ¿Almuerza con alimentos preparados en casa?',\n",
       "       '2.3.6.1. (Persona 4) ¿Cuantos días a las semana almuerza con alimentos preparados en casa?',\n",
       "       '2.3.7. (Persona 4) ¿Cena con alimentos preparados en casa?',\n",
       "       '2.3.7.1. (Persona 4) ¿Cuantos días a las semana almuerza con alimentos preparados en casa?',\n",
       "       '2.3.2. (Persona 5) Género', '2.3.3. (Persona 5) Edad',\n",
       "       '2.3.4. (Persona 5) Nivel de escolaridad',\n",
       "       '2.3.5. (Persona 5) ¿Desayuna con alimentos preparados en casa?',\n",
       "       '2.3.5.1. (Persona 5) ¿Cuantos días a las semana desayuna con alimentos preparados en casa?',\n",
       "       '2.3.6. (Persona 5) ¿Almuerza con alimentos preparados en casa?',\n",
       "       '2.3.6.1. (Persona 5) ¿Cuantos días a las semana almuerza con alimentos preparados en casa?',\n",
       "       '2.3.7. (Persona 5) ¿Cena con alimentos preparados en casa?',\n",
       "       '2.3.7.1. (Persona 5) ¿Cuantos días a las semana almuerza con alimentos preparados en casa?',\n",
       "       '3.2. ¿Incluye el alimento en sus compras? (Carne de res)',\n",
       "       '3.3. ¿Con qué frecuencia compra el alimento? (Carne de res)',\n",
       "       '3.4. ¿Comunmente, dónde compra el alimento? (Carne de res)',\n",
       "       '3.5. ¿Qué cantidad compran del alimento? (Carne de res)',\n",
       "       '3.6. ¿Unidad de medida? (Carne de res)',\n",
       "       '3.2. ¿Incluye el alimento en sus compras? (Carne de cerdo)',\n",
       "       '3.3. ¿Con qué frecuencia compra el alimento? (Carne de cerdo)',\n",
       "       '3.4. ¿Comunmente, dónde compra el alimento? (Carne de cerdo)',\n",
       "       '3.5. ¿Qué cantidad compran del alimento? (Carne de cerdo)',\n",
       "       '3.6. ¿Unidad de medida? (Carne de cerdo)',\n",
       "       '3.2. ¿Incluye el alimento en sus compras? (Carnes procesadas)',\n",
       "       '3.3. ¿Con qué frecuencia compra el alimento? (Carnes procesadas)',\n",
       "       '3.4. ¿Comunmente, dónde compra el alimento? (Carnes procesadas)',\n",
       "       '3.5. ¿Qué cantidad compran del alimento? (Carnes procesadas)',\n",
       "       '3.6. ¿Unidad de medida? (Carnes procesadas)',\n",
       "       '3.2. ¿Incluye el alimento en sus compras? (Pescados)',\n",
       "       '3.3. ¿Con qué frecuencia compra el alimento? (Pescados)',\n",
       "       '3.4. ¿Comunmente, dónde compra el alimento? (Pescados)',\n",
       "       '3.5. ¿Qué cantidad compran del alimento? (Pescados)',\n",
       "       '3.6. ¿Unidad de medida? (Pescados)',\n",
       "       '3.2. ¿Incluye el alimento en sus compras? (Pollo)',\n",
       "       '3.3. ¿Con qué frecuencia compra el alimento? (Pollo)',\n",
       "       '3.4. ¿Comunmente, dónde compra el alimento? (Pollo)',\n",
       "       '3.5. ¿Qué cantidad compran del alimento? (Pollo)',\n",
       "       '3.6. ¿Unidad de medida? (Pollo)',\n",
       "       '3.2. ¿Incluye el alimento en sus compras? (Fresa)',\n",
       "       '3.3. ¿Con qué frecuencia compra el alimento? (Fresa)',\n",
       "       '3.4. ¿Comunmente, dónde compra el alimento? (Fresa)',\n",
       "       '3.5. ¿Qué cantidad compran del alimento? (Fresa)',\n",
       "       '3.6. ¿Unidad de medida? (Fresa)',\n",
       "       '3.2. ¿Incluye el alimento en sus compras? (Papaya)',\n",
       "       '3.3. ¿Con qué frecuencia compra el alimento? (Papaya)',\n",
       "       '3.4. ¿Comunmente, dónde compra el alimento? (Papaya)',\n",
       "       '3.5. ¿Qué cantidad compran del alimento? (Papaya)',\n",
       "       '3.6. ¿Unidad de medida? (Papaya)',\n",
       "       '3.2. ¿Incluye el alimento en sus compras? (Banano)',\n",
       "       '3.3. ¿Con qué frecuencia compra el alimento? (Banano)',\n",
       "       '3.4. ¿Comunmente, dónde compra el alimento? (Banano)',\n",
       "       '3.5. ¿Qué cantidad compran del alimento? (Banano)',\n",
       "       '3.6. ¿Unidad de medida? (Banano)',\n",
       "       '3.2. ¿Incluye el alimento en sus compras? (Manzana)',\n",
       "       '3.3. ¿Con qué frecuencia compra el alimento? (Manzana)',\n",
       "       '3.4. ¿Comunmente, dónde compra el alimento? (Manzana)',\n",
       "       '3.5. ¿Qué cantidad compran del alimento? (Manzana)',\n",
       "       '3.6. ¿Unidad de medida? (Manzana)',\n",
       "       '3.2. ¿Incluye el alimento en sus compras? (Mandarina)',\n",
       "       '3.3. ¿Con qué frecuencia compra el alimento? (Mandarina)',\n",
       "       '3.4. ¿Comunmente, dónde compra el alimento? (Mandarina)',\n",
       "       '3.5. ¿Qué cantidad compran del alimento? (Mandarina)',\n",
       "       '3.6. ¿Unidad de medida? (Mandarina)',\n",
       "       '3.2. ¿Incluye el alimento en sus compras? (Aguacate)',\n",
       "       '3.3. ¿Con qué frecuencia compra el alimento? (Aguacate)',\n",
       "       '3.4. ¿Comunmente, dónde compra el alimento? (Aguacate)',\n",
       "       '3.5. ¿Qué cantidad compran del alimento? (Aguacate)',\n",
       "       '3.6. ¿Unidad de medida? (Aguacate)',\n",
       "       '3.2. ¿Incluye el alimento en sus compras? (Naranja)',\n",
       "       '3.3. ¿Con qué frecuencia compra el alimento? (Naranja)',\n",
       "       '3.4. ¿Comunmente, dónde compra el alimento? (Naranja)',\n",
       "       '3.5. ¿Qué cantidad compran del alimento? (Naranja)',\n",
       "       '3.6. ¿Unidad de medida? (Naranja)',\n",
       "       '3.2. ¿Incluye el alimento en sus compras? (Limón)',\n",
       "       '3.3. ¿Con qué frecuencia compra el alimento? (Limón)',\n",
       "       '3.4. ¿Comunmente, dónde compra el alimento? (Limón)',\n",
       "       '3.5. ¿Qué cantidad compran del alimento? (Limón)',\n",
       "       '3.6. ¿Unidad de medida? (Limón)',\n",
       "       '3.2. ¿Incluye el alimento en sus compras? (Tomate de árbol)',\n",
       "       '3.3. ¿Con qué frecuencia compra el alimento? (Tomate de árbol)',\n",
       "       '3.4. ¿Comunmente, dónde compra el alimento? (Tomate de árbol)',\n",
       "       '3.5. ¿Qué cantidad compran del alimento? (Tomate de árbol)',\n",
       "       '3.6. ¿Unidad de medida? (Tomate de árbol)',\n",
       "       '3.2. ¿Incluye el alimento en sus compras? (Mora)',\n",
       "       '3.3. ¿Con qué frecuencia compra el alimento? (Mora)',\n",
       "       '3.4. ¿Comunmente, dónde compra el alimento? (Mora)',\n",
       "       '3.5. ¿Qué cantidad compran del alimento? (Mora)',\n",
       "       '3.6. ¿Unidad de medida? (Mora)',\n",
       "       '3.2. ¿Incluye el alimento en sus compras? (Maracuyá)',\n",
       "       '3.3. ¿Con qué frecuencia compra el alimento? (Maracuyá)',\n",
       "       '3.4. ¿Comunmente, dónde compra el alimento? (Maracuyá)',\n",
       "       '3.5. ¿Qué cantidad compran del alimento? (Maracuyá)',\n",
       "       '3.6. ¿Unidad de medida? (Maracuyá)',\n",
       "       '3.2. ¿Incluye el alimento en sus compras? (Mango)',\n",
       "       '3.3. ¿Con qué frecuencia compra el alimento? (Mango)',\n",
       "       '3.4. ¿Comunmente, dónde compra el alimento? (Mango)',\n",
       "       '3.5. ¿Qué cantidad compran del alimento? (Mango)',\n",
       "       '3.6. ¿Unidad de medida? (Mango)',\n",
       "       '3.2. ¿Incluye el alimento en sus compras? (Lulo)',\n",
       "       '3.3. ¿Con qué frecuencia compra el alimento? (Lulo)',\n",
       "       '3.4. ¿Comunmente, dónde compra el alimento? (Lulo)',\n",
       "       '3.5. ¿Qué cantidad compran del alimento? (Lulo)',\n",
       "       '3.6. ¿Unidad de medida? (Lulo)',\n",
       "       '3.2. ¿Incluye el alimento en sus compras? (Guayaba)',\n",
       "       '3.3. ¿Con qué frecuencia compra el alimento? (Guayaba)',\n",
       "       '3.4. ¿Comunmente, dónde compra el alimento? (Guayaba)',\n",
       "       '3.5. ¿Qué cantidad compran del alimento? (Guayaba)',\n",
       "       '3.6. ¿Unidad de medida? (Guayaba)',\n",
       "       '3.2. ¿Incluye el alimento en sus compras? (Ciruela)',\n",
       "       '3.3. ¿Con qué frecuencia compra el alimento? (Ciruela)',\n",
       "       '3.4. ¿Comunmente, dónde compra el alimento? (Ciruela)',\n",
       "       '3.5. ¿Qué cantidad compran del alimento? (Ciruela)',\n",
       "       '3.6. ¿Unidad de medida? (Ciruela)',\n",
       "       '3.2. ¿Incluye el alimento en sus compras? (Durazno)',\n",
       "       '3.3. ¿Con qué frecuencia compra el alimento? (Durazno)',\n",
       "       '3.4. ¿Comunmente, dónde compra el alimento? (Durazno)',\n",
       "       '3.5. ¿Qué cantidad compran del alimento? (Durazno)',\n",
       "       '3.6. ¿Unidad de medida? (Durazno)',\n",
       "       '3.2. ¿Incluye el alimento en sus compras? (Guanábana)',\n",
       "       '3.3. ¿Con qué frecuencia compra el alimento? (Guanábana)',\n",
       "       '3.4. ¿Comunmente, dónde compra el alimento? (Guanábana)',\n",
       "       '3.5. ¿Qué cantidad compran del alimento? (Guanábana)',\n",
       "       '3.6. ¿Unidad de medida? (Guanábana)',\n",
       "       '3.2. ¿Incluye el alimento en sus compras? (Curuba)',\n",
       "       '3.3. ¿Con qué frecuencia compra el alimento? (Curuba)',\n",
       "       '3.4. ¿Comunmente, dónde compra el alimento? (Curuba)',\n",
       "       '3.5. ¿Qué cantidad compran del alimento? (Curuba)',\n",
       "       '3.6. ¿Unidad de medida? (Curuba)',\n",
       "       '3.2. ¿Incluye el alimento en sus compras? (Granadilla)',\n",
       "       '3.3. ¿Con qué frecuencia compra el alimento? (Granadilla)',\n",
       "       '3.4. ¿Comunmente, dónde compra el alimento? (Granadilla)',\n",
       "       '3.5. ¿Qué cantidad compran del alimento? (Granadilla)',\n",
       "       '3.6. ¿Unidad de medida? (Granadilla)',\n",
       "       '3.2. ¿Incluye el alimento en sus compras? (Pera)',\n",
       "       '3.3. ¿Con qué frecuencia compra el alimento? (Pera)',\n",
       "       '3.4. ¿Comunmente, dónde compra el alimento? (Pera)',\n",
       "       '3.5. ¿Qué cantidad compran del alimento? (Pera)',\n",
       "       '3.6. ¿Unidad de medida? (Pera)',\n",
       "       '3.2. ¿Incluye el alimento en sus compras? (Piña)',\n",
       "       '3.3. ¿Con qué frecuencia compra el alimento? (Piña)',\n",
       "       '3.4. ¿Comunmente, dónde compra el alimento? (Piña)',\n",
       "       '3.5. ¿Qué cantidad compran del alimento? (Piña)',\n",
       "       '3.6. ¿Unidad de medida? (Piña)',\n",
       "       '3.2. ¿Incluye el alimento en sus compras? (Ahuyama)',\n",
       "       '3.3. ¿Con qué frecuencia compra el alimento? (Ahuyama)',\n",
       "       '3.4. ¿Comunmente, dónde compra el alimento? (Ahuyama)',\n",
       "       '3.5. ¿Qué cantidad compran del alimento? (Ahuyama)',\n",
       "       '3.6. ¿Unidad de medida? (Ahuyama)',\n",
       "       '3.2. ¿Incluye el alimento en sus compras? (Espinaca)',\n",
       "       '3.3. ¿Con qué frecuencia compra el alimento? (Espinaca)',\n",
       "       '3.4. ¿Comunmente, dónde compra el alimento? (Espinaca)',\n",
       "       '3.5. ¿Qué cantidad compran del alimento? (Espinaca)',\n",
       "       '3.6. ¿Unidad de medida? (Espinaca)',\n",
       "       '3.2. ¿Incluye el alimento en sus compras? (Arveja verde)',\n",
       "       '3.3. ¿Con qué frecuencia compra el alimento? (Arveja verde)',\n",
       "       '3.4. ¿Comunmente, dónde compra el alimento? (Arveja verde)',\n",
       "       '3.5. ¿Qué cantidad compran del alimento? (Arveja verde)',\n",
       "       '3.6. ¿Unidad de medida? (Arveja verde)',\n",
       "       '3.2. ¿Incluye el alimento en sus compras? (Habichuela)',\n",
       "       '3.3. ¿Con qué frecuencia compra el alimento? (Habichuela)',\n",
       "       '3.4. ¿Comunmente, dónde compra el alimento? (Habichuela)',\n",
       "       '3.5. ¿Qué cantidad compran del alimento? (Habichuela)',\n",
       "       '3.6. ¿Unidad de medida? (Habichuela)',\n",
       "       '3.2. ¿Incluye el alimento en sus compras? (Zanahoria)',\n",
       "       '3.3. ¿Con qué frecuencia compra el alimento? (Zanahoria)',\n",
       "       '3.4. ¿Comunmente, dónde compra el alimento? (Zanahoria)',\n",
       "       '3.5. ¿Qué cantidad compran del alimento? (Zanahoria)',\n",
       "       '3.6. ¿Unidad de medida? (Zanahoria)',\n",
       "       '3.2. ¿Incluye el alimento en sus compras? (Tomate)',\n",
       "       '3.3. ¿Con qué frecuencia compra el alimento? (Tomate)',\n",
       "       '3.4. ¿Comunmente, dónde compra el alimento? (Tomate)',\n",
       "       '3.5. ¿Qué cantidad compran del alimento? (Tomate)',\n",
       "       '3.6. ¿Unidad de medida? (Tomate)',\n",
       "       '3.2. ¿Incluye el alimento en sus compras? (Lechuga)',\n",
       "       '3.3. ¿Con qué frecuencia compra el alimento? (Lechuga)',\n",
       "       '3.4. ¿Comunmente, dónde compra el alimento? (Lechuga)',\n",
       "       '3.5. ¿Qué cantidad compran del alimento? (Lechuga)',\n",
       "       '3.6. ¿Unidad de medida? (Lechuga)',\n",
       "       '3.2. ¿Incluye el alimento en sus compras? (Cebolla larga)',\n",
       "       '3.3. ¿Con qué frecuencia compra el alimento? (Cebolla larga)',\n",
       "       '3.4. ¿Comunmente, dónde compra el alimento? (Cebolla larga)',\n",
       "       '3.5. ¿Qué cantidad compran del alimento? (Cebolla larga)',\n",
       "       '3.6. ¿Unidad de medida? (Cebolla larga)',\n",
       "       '3.2. ¿Incluye el alimento en sus compras? (Cebolla cabezona)',\n",
       "       '3.3. ¿Con qué frecuencia compra el alimento? (Cebolla cabezona)',\n",
       "       '3.4. ¿Comunmente, dónde compra el alimento? (Cebolla cabezona)',\n",
       "       '3.5. ¿Qué cantidad compran del alimento? (Cebolla cabezona)',\n",
       "       '3.6. ¿Unidad de medida? (Cebolla cabezona)',\n",
       "       '3.2. ¿Incluye el alimento en sus compras? (Acelga)',\n",
       "       '3.3. ¿Con qué frecuencia compra el alimento? (Acelga)',\n",
       "       '3.4. ¿Comunmente, dónde compra el alimento? (Acelga)',\n",
       "       '3.5. ¿Qué cantidad compran del alimento? (Acelga)',\n",
       "       '3.6. ¿Unidad de medida? (Acelga)',\n",
       "       '3.2. ¿Incluye el alimento en sus compras? (Calabaza y calabacín)',\n",
       "       '3.3. ¿Con qué frecuencia compra el alimento? (Calabaza y calabacín)',\n",
       "       '3.4. ¿Comunmente, dónde compra el alimento? (Calabaza y calabacín)',\n",
       "       '3.5. ¿Qué cantidad compran del alimento? (Calabaza y calabacín)',\n",
       "       '3.6. ¿Unidad de medida? (Calabaza y calabacín)',\n",
       "       '3.2. ¿Incluye el alimento en sus compras? (Coliflor)',\n",
       "       '3.3. ¿Con qué frecuencia compra el alimento? (Coliflor)',\n",
       "       '3.4. ¿Comunmente, dónde compra el alimento? (Coliflor)',\n",
       "       '3.5. ¿Qué cantidad compran del alimento? (Coliflor)',\n",
       "       '3.6. ¿Unidad de medida? (Coliflor)',\n",
       "       '3.2. ¿Incluye el alimento en sus compras? (Pepino)',\n",
       "       '3.3. ¿Con qué frecuencia compra el alimento? (Pepino)',\n",
       "       '3.4. ¿Comunmente, dónde compra el alimento? (Pepino)',\n",
       "       '3.5. ¿Qué cantidad compran del alimento? (Pepino)',\n",
       "       '3.6. ¿Unidad de medida? (Pepino)',\n",
       "       '3.2. ¿Incluye el alimento en sus compras? (Remolacha)',\n",
       "       '3.3. ¿Con qué frecuencia compra el alimento? (Remolacha)',\n",
       "       '3.4. ¿Comunmente, dónde compra el alimento? (Remolacha)',\n",
       "       '3.5. ¿Qué cantidad compran del alimento? (Remolacha)',\n",
       "       '3.6. ¿Unidad de medida? (Remolacha)',\n",
       "       '3.2. ¿Incluye el alimento en sus compras? (Repollo)',\n",
       "       '3.3. ¿Con qué frecuencia compra el alimento? (Repollo)',\n",
       "       '3.4. ¿Comunmente, dónde compra el alimento? (Repollo)',\n",
       "       '3.5. ¿Qué cantidad compran del alimento? (Repollo)',\n",
       "       '3.6. ¿Unidad de medida? (Repollo)',\n",
       "       '3.2. ¿Incluye el alimento en sus compras? (Papa)',\n",
       "       '3.3. ¿Con qué frecuencia compra el alimento? (Papa)',\n",
       "       '3.4. ¿Comunmente, dónde compra el alimento? (Papa)',\n",
       "       '3.5. ¿Qué cantidad compran del alimento? (Papa)',\n",
       "       '3.6. ¿Unidad de medida? (Papa)',\n",
       "       '3.2. ¿Incluye el alimento en sus compras? (Papa criolla)',\n",
       "       '3.3. ¿Con qué frecuencia compra el alimento? (Papa criolla)',\n",
       "       '3.4. ¿Comunmente, dónde compra el alimento? (Papa criolla)',\n",
       "       '3.5. ¿Qué cantidad compran del alimento? (Papa criolla)',\n",
       "       '3.6. ¿Unidad de medida? (Papa criolla)',\n",
       "       '3.2. ¿Incluye el alimento en sus compras? (Plátano)',\n",
       "       '3.3. ¿Con qué frecuencia compra el alimento? (Plátano)',\n",
       "       '3.4. ¿Comunmente, dónde compra el alimento? (Plátano)',\n",
       "       '3.5. ¿Qué cantidad compran del alimento? (Plátano)',\n",
       "       '3.6. ¿Unidad de medida? (Plátano)',\n",
       "       '3.2. ¿Incluye el alimento en sus compras? (Yuca)',\n",
       "       '3.3. ¿Con qué frecuencia compra el alimento? (Yuca)',\n",
       "       '3.4. ¿Comunmente, dónde compra el alimento? (Yuca)',\n",
       "       '3.5. ¿Qué cantidad compran del alimento? (Yuca)',\n",
       "       '3.6. ¿Unidad de medida? (Yuca)',\n",
       "       '3.2. ¿Incluye el alimento en sus compras? (Arracacha)',\n",
       "       '3.3. ¿Con qué frecuencia compra el alimento? (Arracacha)',\n",
       "       '3.4. ¿Comunmente, dónde compra el alimento? (Arracacha)',\n",
       "       '3.5. ¿Qué cantidad compran del alimento? (Arracacha)',\n",
       "       '3.6. ¿Unidad de medida? (Arracacha)',\n",
       "       '3.2. ¿Incluye el alimento en sus compras? (Leche)',\n",
       "       '3.3. ¿Con qué frecuencia compra el alimento? (Leche)',\n",
       "       '3.4. ¿Comunmente, dónde compra el alimento? (Leche)',\n",
       "       '3.5. ¿Qué cantidad compran del alimento? (Leche)',\n",
       "       '3.6. ¿Unidad de medida? (Leche)',\n",
       "       '3.2. ¿Incluye el alimento en sus compras? (Queso)',\n",
       "       '3.3. ¿Con qué frecuencia compra el alimento? (Queso)',\n",
       "       '3.4. ¿Comunmente, dónde compra el alimento? (Queso)',\n",
       "       '3.5. ¿Qué cantidad compran del alimento? (Queso)',\n",
       "       '3.6. ¿Unidad de medida? (Queso)',\n",
       "       '3.2. ¿Incluye el alimento en sus compras? (Yogurt)',\n",
       "       '3.3. ¿Con qué frecuencia compra el alimento? (Yogurt)',\n",
       "       '3.4. ¿Comunmente, dónde compra el alimento? (Yogurt)',\n",
       "       '3.5. ¿Qué cantidad compran del alimento? (Yogurt)',\n",
       "       '3.6. ¿Unidad de medida? (Yogurt)',\n",
       "       '3.2. ¿Incluye el alimento en sus compras? (Huevos)',\n",
       "       '3.3. ¿Con qué frecuencia compra el alimento? (Huevos)',\n",
       "       '3.4. ¿Comunmente, dónde compra el alimento? (Huevos)',\n",
       "       '3.5. ¿Qué cantidad compran del alimento? (Huevos)',\n",
       "       '3.6. ¿Unidad de medida? (Huevos)',\n",
       "       '3.2. ¿Incluye el alimento en sus compras? (Arroz seco)',\n",
       "       '3.3. ¿Con qué frecuencia compra el alimento? (Arroz seco)',\n",
       "       '3.4. ¿Comunmente, dónde compra el alimento? (Arroz seco)',\n",
       "       '3.5. ¿Qué cantidad compran del alimento? (Arroz seco)',\n",
       "       '3.6. ¿Unidad de medida? (Arroz seco)',\n",
       "       '3.2. ¿Incluye el alimento en sus compras? (Frijol seco)',\n",
       "       '3.3. ¿Con qué frecuencia compra el alimento? (Frijol seco)',\n",
       "       '3.4. ¿Comunmente, dónde compra el alimento? (Frijol seco)',\n",
       "       '3.5. ¿Qué cantidad compran del alimento? (Frijol seco)',\n",
       "       '3.6. ¿Unidad de medida? (Frijol seco)',\n",
       "       '3.2. ¿Incluye el alimento en sus compras? (Garbanzos)',\n",
       "       '3.3. ¿Con qué frecuencia compra el alimento? (Garbanzos)',\n",
       "       '3.4. ¿Comunmente, dónde compra el alimento? (Garbanzos)',\n",
       "       '3.5. ¿Qué cantidad compran del alimento? (Garbanzos)',\n",
       "       '3.6. ¿Unidad de medida? (Garbanzos)',\n",
       "       '3.2. ¿Incluye el alimento en sus compras? (Lentejas)',\n",
       "       '3.3. ¿Con qué frecuencia compra el alimento? (Lentejas)',\n",
       "       '3.4. ¿Comunmente, dónde compra el alimento? (Lentejas)',\n",
       "       '3.5. ¿Qué cantidad compran del alimento? (Lentejas)',\n",
       "       '3.6. ¿Unidad de medida? (Lentejas)',\n",
       "       '3.2. ¿Incluye el alimento en sus compras? (Aceite)',\n",
       "       '3.3. ¿Con qué frecuencia compra el alimento? (Aceite)',\n",
       "       '3.4. ¿Comunmente, dónde compra el alimento? (Aceite)',\n",
       "       '3.5. ¿Qué cantidad compran del alimento? (Aceite)',\n",
       "       '3.6. ¿Unidad de medida? (Aceite)',\n",
       "       '3.2. ¿Incluye el alimento en sus compras? (Avena)',\n",
       "       '3.3. ¿Con qué frecuencia compra el alimento? (Avena)',\n",
       "       '3.4. ¿Comunmente, dónde compra el alimento? (Avena)',\n",
       "       '3.5. ¿Qué cantidad compran del alimento? (Avena)',\n",
       "       '3.6. ¿Unidad de medida? (Avena)',\n",
       "       '3.2. ¿Incluye el alimento en sus compras? (Harina de trigo)',\n",
       "       '3.3. ¿Con qué frecuencia compra el alimento? (Harina de trigo)',\n",
       "       '3.4. ¿Comunmente, dónde compra el alimento? (Harina de trigo)',\n",
       "       '3.5. ¿Qué cantidad compran del alimento? (Harina de trigo)',\n",
       "       '3.6. ¿Unidad de medida? (Harina de trigo)',\n",
       "       '3.2. ¿Incluye el alimento en sus compras? (Harina de maíz)',\n",
       "       '3.3. ¿Con qué frecuencia compra el alimento? (Harina de maíz)',\n",
       "       '3.4. ¿Comunmente, dónde compra el alimento? (Harina de maíz)',\n",
       "       '3.5. ¿Qué cantidad compran del alimento? (Harina de maíz)',\n",
       "       '3.6. ¿Unidad de medida? (Harina de maíz)',\n",
       "       '3.2. ¿Incluye el alimento en sus compras? (Pasta)',\n",
       "       '3.3. ¿Con qué frecuencia compra el alimento? (Pasta)',\n",
       "       '3.4. ¿Comunmente, dónde compra el alimento? (Pasta)',\n",
       "       '3.5. ¿Qué cantidad compran del alimento? (Pasta)',\n",
       "       '3.6. ¿Unidad de medida? (Pasta)',\n",
       "       '3.2. ¿Incluye el alimento en sus compras? (Azúcar)',\n",
       "       '3.3. ¿Con qué frecuencia compra el alimento? (Azúcar)',\n",
       "       '3.4. ¿Comunmente, dónde compra el alimento? (Azúcar)',\n",
       "       '3.5. ¿Qué cantidad compran del alimento? (Azúcar)',\n",
       "       '3.6. ¿Unidad de medida? (Azúcar)',\n",
       "       '3.2. ¿Incluye el alimento en sus compras? (Sal)',\n",
       "       '3.3. ¿Con qué frecuencia compra el alimento? (Sal)',\n",
       "       '3.4. ¿Comunmente, dónde compra el alimento? (Sal)',\n",
       "       '3.5. ¿Qué cantidad compran del alimento? (Sal)',\n",
       "       '3.6. ¿Unidad de medida? (Sal)',\n",
       "       '3.2. ¿Incluye el alimento en sus compras? (Chocolate)',\n",
       "       '3.3. ¿Con qué frecuencia compra el alimento? (Chocolate)',\n",
       "       '3.4. ¿Comunmente, dónde compra el alimento? (Chocolate)',\n",
       "       '3.5. ¿Qué cantidad compran del alimento? (Chocolate)',\n",
       "       '3.6. ¿Unidad de medida? (Chocolate)',\n",
       "       '3.2. ¿Incluye el alimento en sus compras? (Café)',\n",
       "       '3.3. ¿Con qué frecuencia compra el alimento? (Café)',\n",
       "       '3.4. ¿Comunmente, dónde compra el alimento? (Café)',\n",
       "       '3.5. ¿Qué cantidad compran del alimento? (Café)',\n",
       "       '3.6. ¿Unidad de medida? (Café)',\n",
       "       '3.2. ¿Incluye el alimento en sus compras? (Panela)',\n",
       "       '3.3. ¿Con qué frecuencia compra el alimento? (Panela)',\n",
       "       '3.4. ¿Comunmente, dónde compra el alimento? (Panela)',\n",
       "       '3.5. ¿Qué cantidad compran del alimento? (Panela)',\n",
       "       '3.6. ¿Unidad de medida? (Panela)',\n",
       "       '3.2. ¿Incluye el alimento en sus compras? (Pan)',\n",
       "       '3.3. ¿Con qué frecuencia compra el alimento? (Pan)',\n",
       "       '3.4. ¿Comunmente, dónde compra el alimento? (Pan)',\n",
       "       '3.5. ¿Qué cantidad compran del alimento? (Pan)',\n",
       "       '3.6. ¿Unidad de medida? (Pan)',\n",
       "       '3.2. ¿Incluye el alimento en sus compras? (Galletas)',\n",
       "       '3.3. ¿Con qué frecuencia compra el alimento? (Galletas)',\n",
       "       '3.4. ¿Comunmente, dónde compra el alimento? (Galletas)',\n",
       "       '3.5. ¿Qué cantidad compran del alimento? (Galletas)',\n",
       "       '3.6. ¿Unidad de medida? (Galletas)',\n",
       "       '3.2. ¿Incluye el alimento en sus compras? (Agua)',\n",
       "       '3.3. ¿Con qué frecuencia compra el alimento? (Agua)',\n",
       "       '3.4. ¿Comunmente, dónde compra el alimento? (Agua)',\n",
       "       '3.5. ¿Qué cantidad compran del alimento? (Agua)',\n",
       "       '3.6. ¿Unidad de medida? (Agua)'], dtype='<U90')"
      ]
     },
     "execution_count": 53,
     "metadata": {},
     "output_type": "execute_result"
    }
   ],
   "source": [
    "np.array(list (df))"
   ]
  }
 ],
 "metadata": {
  "kernelspec": {
   "display_name": "Python 3",
   "language": "python",
   "name": "python3"
  },
  "language_info": {
   "codemirror_mode": {
    "name": "ipython",
    "version": 3
   },
   "file_extension": ".py",
   "mimetype": "text/x-python",
   "name": "python",
   "nbconvert_exporter": "python",
   "pygments_lexer": "ipython3",
   "version": "3.8.3"
  }
 },
 "nbformat": 4,
 "nbformat_minor": 4
}
